{
  "nbformat": 4,
  "nbformat_minor": 0,
  "metadata": {
    "colab": {
      "provenance": []
    },
    "kernelspec": {
      "name": "python3",
      "display_name": "Python 3"
    },
    "language_info": {
      "name": "python"
    }
  },
  "cells": [
    {
      "cell_type": "code",
      "execution_count": 2,
      "metadata": {
        "id": "BkxJqoB3niiQ"
      },
      "outputs": [],
      "source": [
        "import pandas as pd\n",
        "from sqlalchemy import create_engine"
      ]
    },
    {
      "cell_type": "code",
      "source": [
        "pip install psycopg2"
      ],
      "metadata": {
        "colab": {
          "base_uri": "https://localhost:8080/"
        },
        "id": "OF0C-o22111U",
        "outputId": "9b4955d9-aabe-4cb4-93ae-93fa4ebac9a6"
      },
      "execution_count": 3,
      "outputs": [
        {
          "output_type": "stream",
          "name": "stdout",
          "text": [
            "Looking in indexes: https://pypi.org/simple, https://us-python.pkg.dev/colab-wheels/public/simple/\n",
            "Requirement already satisfied: psycopg2 in /usr/local/lib/python3.10/dist-packages (2.9.6)\n"
          ]
        }
      ]
    },
    {
      "cell_type": "code",
      "source": [
        "import psycopg2"
      ],
      "metadata": {
        "id": "SeQo2aQX14kq"
      },
      "execution_count": 4,
      "outputs": []
    },
    {
      "cell_type": "code",
      "source": [
        "!pip install redis"
      ],
      "metadata": {
        "colab": {
          "base_uri": "https://localhost:8080/"
        },
        "id": "X3atNJaV3Bh2",
        "outputId": "c694324b-0e74-49c9-fcf5-b97dcee38888"
      },
      "execution_count": 5,
      "outputs": [
        {
          "output_type": "stream",
          "name": "stdout",
          "text": [
            "Looking in indexes: https://pypi.org/simple, https://us-python.pkg.dev/colab-wheels/public/simple/\n",
            "Collecting redis\n",
            "  Downloading redis-4.5.4-py3-none-any.whl (238 kB)\n",
            "\u001b[2K     \u001b[90m━━━━━━━━━━━━━━━━━━━━━━━━━━━━━━━━━━━━━━━\u001b[0m \u001b[32m238.9/238.9 kB\u001b[0m \u001b[31m8.8 MB/s\u001b[0m eta \u001b[36m0:00:00\u001b[0m\n",
            "\u001b[?25hCollecting async-timeout>=4.0.2\n",
            "  Downloading async_timeout-4.0.2-py3-none-any.whl (5.8 kB)\n",
            "Installing collected packages: async-timeout, redis\n",
            "Successfully installed async-timeout-4.0.2 redis-4.5.4\n"
          ]
        }
      ]
    },
    {
      "cell_type": "code",
      "source": [
        "import redis"
      ],
      "metadata": {
        "id": "E7Hc84nb3WxR"
      },
      "execution_count": 6,
      "outputs": []
    },
    {
      "cell_type": "code",
      "source": [
        "r = redis.Redis(\n",
        "  host='redis-17099.c8.us-east-1-2.ec2.cloud.redislabs.com',\n",
        "  port=17099,\n",
        "  password='xGOqKDKeqC1Sd63n6omhWyGyTFx4syQC')"
      ],
      "metadata": {
        "id": "YPk5ZWnn5Y60"
      },
      "execution_count": null,
      "outputs": []
    },
    {
      "cell_type": "code",
      "source": [
        "# Postgres Database Information\n",
        "pg_host = '35.237.226.12'\n",
        "pg_database = 'telecommunications_data'\n",
        "pg_port = 5432\n",
        "pg_user = 'postgres'\n",
        "pg_password = 'password'"
      ],
      "metadata": {
        "id": "c-kZvYnlrwoW"
      },
      "execution_count": null,
      "outputs": []
    },
    {
      "cell_type": "code",
      "source": [
        "# Redis Client Object\n",
        "redis_client = redis.Redis(host=redis_host, port=redis_port, password=redis_password)"
      ],
      "metadata": {
        "id": "DFb-9uxLr2It"
      },
      "execution_count": null,
      "outputs": []
    },
    {
      "cell_type": "code",
      "source": [
        "def extract_data():\n",
        "\n",
        "    # Extract data from CSV file using pandas\n",
        "        df = pd.read_csv('customer_call_logs.csv')\n",
        "        print('Extraction Successful')\n",
        "        return df"
      ],
      "metadata": {
        "id": "0ueMEz3r6q08"
      },
      "execution_count": 7,
      "outputs": []
    },
    {
      "cell_type": "code",
      "source": [
        "#Let us define the transfrom_data() fucntion\n",
        "def transform_data():\n",
        "    \"\"\"\n",
        "    Retrieve data from Redis cache and transform (clean, structure, format)\n",
        "    \"\"\"\n",
        "    try:\n",
        "        # Retrieve data from Redis cache\n",
        "        data = pd.read_json(redis_client.get('customer_call_logs').decode('utf-8'))\n",
        "\n",
        "        # Transform data (clean, structure, format)\n",
        "        data['call_cost_usd'] = data['call_cost'].apply(lambda x: float(x[1:]))\n",
        "        data['call_date'] = pd.to_datetime(data['call_date'])\n",
        "        data['call_duration_min'] = data['call_duration'].apply(lambda x: float(x.split(':')[0]) + float(x.split(':')[1])/60)\n",
        "        transformed_data = data[['customer_id', 'call_cost_usd', 'call_destination', 'call_date', 'call_duration_min']]\n",
        "\n",
        "        print('Data transformation successful.')\n",
        "        return transformed_data\n",
        "    \n",
        "    except Exception as e:\n",
        "        print('An error occurred while transforming data:', e)"
      ],
      "metadata": {
        "id": "L1Zldl6ki5LP"
      },
      "execution_count": 8,
      "outputs": []
    },
    {
      "cell_type": "code",
      "source": [
        "#Let us define the load_data() fucntion\n",
        "def load_data(transformed_data):\n",
        "    \"\"\"\n",
        "    Connect to Postgres database and load transformed data\n",
        "    \"\"\"\n",
        "    try:\n",
        "        # Connect to Postgres database\n",
        "        conn = psycopg2.connect(host=pg_host, database=pg_database, user=pg_user, password=pg_password)\n",
        "\n",
        "        # Create a cursor object\n",
        "        cur = conn.cursor()\n",
        "\n",
        "        # Create a table to store the data\n",
        "        cur.execute('CREATE TABLE IF NOT EXISTS customer_call_logs (\\\n",
        "                     customer_id INT,\\\n",
        "                     call_cost_usd FLOAT,\\\n",
        "                     call_destination VARCHAR,\\\n",
        "                     call_date TIMESTAMP,\\\n",
        "                     call_duration_min FLOAT\\\n",
        "                     )')\n",
        "\n",
        "        # Insert the transformed data into the database\n",
        "        for i, row in transformed_data.iterrows():\n",
        "            cur.execute(f\"INSERT INTO customer_call_logs (customer_id, call_cost_usd, call_destination, call_date, call_duration_min) VALUES ({row['customer_id']}, {row['call_cost_usd']}, '{row['call_destination']}', '{row['call_date']}', {row['call_duration_min']})\")\n",
        "\n",
        "        # Commit the changes\n",
        "        conn.commit()\n",
        "\n",
        "        # Close the cursor and connection\n",
        "        cur.close()\n",
        "        conn.close()\n",
        "\n",
        "        print('Data loading successful.')"
      ],
      "metadata": {
        "id": "lGuTDR6-rvjv"
      },
      "execution_count": null,
      "outputs": []
    },
    {
      "cell_type": "code",
      "source": [
        "#Defining the main function\n",
        "\n",
        "def data_pipeline():\n",
        "    \"\"\"\n",
        "    Data pipeline function that extracts, transforms, and loads data\n",
        "    \"\"\"\n",
        "    extract_data()\n",
        "    transformed_data = transform_data()\n",
        "    load_data(transformed_data)\n",
        "\n",
        "if __name__ == '__main__':\n",
        "    # Run the data pipeline function\n",
        "    data_pipeline()"
      ],
      "metadata": {
        "id": "QId-3VN4s8Wg"
      },
      "execution_count": null,
      "outputs": []
    }
  ]
}